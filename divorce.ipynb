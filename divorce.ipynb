{
  "nbformat": 4,
  "nbformat_minor": 0,
  "metadata": {
    "colab": {
      "provenance": [],
      "authorship_tag": "ABX9TyNJcSZFZuIc+xOwavPAQhtl",
      "include_colab_link": true
    },
    "kernelspec": {
      "name": "python3",
      "display_name": "Python 3"
    },
    "language_info": {
      "name": "python"
    }
  },
  "cells": [
    {
      "cell_type": "markdown",
      "metadata": {
        "id": "view-in-github",
        "colab_type": "text"
      },
      "source": [
        "<a href=\"https://colab.research.google.com/github/ckrkc/Exploratory-Data-Analysis/blob/main/divorce.ipynb\" target=\"_parent\"><img src=\"https://colab.research.google.com/assets/colab-badge.svg\" alt=\"Open In Colab\"/></a>"
      ]
    },
    {
      "cell_type": "markdown",
      "source": [
        "**BOŞANMA VERİLERİ İLE EDA**"
      ],
      "metadata": {
        "id": "mco-ZaytD6z6"
      }
    },
    {
      "cell_type": "code",
      "source": [
        "from google.colab import files\n",
        "uploaded = files.upload()"
      ],
      "metadata": {
        "id": "J5KUkO4YEEPU",
        "outputId": "96145f06-c08a-4959-bac9-c74f32790ce0",
        "colab": {
          "base_uri": "https://localhost:8080/",
          "height": 73
        }
      },
      "execution_count": 1,
      "outputs": [
        {
          "output_type": "display_data",
          "data": {
            "text/plain": [
              "<IPython.core.display.HTML object>"
            ],
            "text/html": [
              "\n",
              "     <input type=\"file\" id=\"files-9cccfb92-401b-4d66-8a8a-7878ba3d216b\" name=\"files[]\" multiple disabled\n",
              "        style=\"border:none\" />\n",
              "     <output id=\"result-9cccfb92-401b-4d66-8a8a-7878ba3d216b\">\n",
              "      Upload widget is only available when the cell has been executed in the\n",
              "      current browser session. Please rerun this cell to enable.\n",
              "      </output>\n",
              "      <script>// Copyright 2017 Google LLC\n",
              "//\n",
              "// Licensed under the Apache License, Version 2.0 (the \"License\");\n",
              "// you may not use this file except in compliance with the License.\n",
              "// You may obtain a copy of the License at\n",
              "//\n",
              "//      http://www.apache.org/licenses/LICENSE-2.0\n",
              "//\n",
              "// Unless required by applicable law or agreed to in writing, software\n",
              "// distributed under the License is distributed on an \"AS IS\" BASIS,\n",
              "// WITHOUT WARRANTIES OR CONDITIONS OF ANY KIND, either express or implied.\n",
              "// See the License for the specific language governing permissions and\n",
              "// limitations under the License.\n",
              "\n",
              "/**\n",
              " * @fileoverview Helpers for google.colab Python module.\n",
              " */\n",
              "(function(scope) {\n",
              "function span(text, styleAttributes = {}) {\n",
              "  const element = document.createElement('span');\n",
              "  element.textContent = text;\n",
              "  for (const key of Object.keys(styleAttributes)) {\n",
              "    element.style[key] = styleAttributes[key];\n",
              "  }\n",
              "  return element;\n",
              "}\n",
              "\n",
              "// Max number of bytes which will be uploaded at a time.\n",
              "const MAX_PAYLOAD_SIZE = 100 * 1024;\n",
              "\n",
              "function _uploadFiles(inputId, outputId) {\n",
              "  const steps = uploadFilesStep(inputId, outputId);\n",
              "  const outputElement = document.getElementById(outputId);\n",
              "  // Cache steps on the outputElement to make it available for the next call\n",
              "  // to uploadFilesContinue from Python.\n",
              "  outputElement.steps = steps;\n",
              "\n",
              "  return _uploadFilesContinue(outputId);\n",
              "}\n",
              "\n",
              "// This is roughly an async generator (not supported in the browser yet),\n",
              "// where there are multiple asynchronous steps and the Python side is going\n",
              "// to poll for completion of each step.\n",
              "// This uses a Promise to block the python side on completion of each step,\n",
              "// then passes the result of the previous step as the input to the next step.\n",
              "function _uploadFilesContinue(outputId) {\n",
              "  const outputElement = document.getElementById(outputId);\n",
              "  const steps = outputElement.steps;\n",
              "\n",
              "  const next = steps.next(outputElement.lastPromiseValue);\n",
              "  return Promise.resolve(next.value.promise).then((value) => {\n",
              "    // Cache the last promise value to make it available to the next\n",
              "    // step of the generator.\n",
              "    outputElement.lastPromiseValue = value;\n",
              "    return next.value.response;\n",
              "  });\n",
              "}\n",
              "\n",
              "/**\n",
              " * Generator function which is called between each async step of the upload\n",
              " * process.\n",
              " * @param {string} inputId Element ID of the input file picker element.\n",
              " * @param {string} outputId Element ID of the output display.\n",
              " * @return {!Iterable<!Object>} Iterable of next steps.\n",
              " */\n",
              "function* uploadFilesStep(inputId, outputId) {\n",
              "  const inputElement = document.getElementById(inputId);\n",
              "  inputElement.disabled = false;\n",
              "\n",
              "  const outputElement = document.getElementById(outputId);\n",
              "  outputElement.innerHTML = '';\n",
              "\n",
              "  const pickedPromise = new Promise((resolve) => {\n",
              "    inputElement.addEventListener('change', (e) => {\n",
              "      resolve(e.target.files);\n",
              "    });\n",
              "  });\n",
              "\n",
              "  const cancel = document.createElement('button');\n",
              "  inputElement.parentElement.appendChild(cancel);\n",
              "  cancel.textContent = 'Cancel upload';\n",
              "  const cancelPromise = new Promise((resolve) => {\n",
              "    cancel.onclick = () => {\n",
              "      resolve(null);\n",
              "    };\n",
              "  });\n",
              "\n",
              "  // Wait for the user to pick the files.\n",
              "  const files = yield {\n",
              "    promise: Promise.race([pickedPromise, cancelPromise]),\n",
              "    response: {\n",
              "      action: 'starting',\n",
              "    }\n",
              "  };\n",
              "\n",
              "  cancel.remove();\n",
              "\n",
              "  // Disable the input element since further picks are not allowed.\n",
              "  inputElement.disabled = true;\n",
              "\n",
              "  if (!files) {\n",
              "    return {\n",
              "      response: {\n",
              "        action: 'complete',\n",
              "      }\n",
              "    };\n",
              "  }\n",
              "\n",
              "  for (const file of files) {\n",
              "    const li = document.createElement('li');\n",
              "    li.append(span(file.name, {fontWeight: 'bold'}));\n",
              "    li.append(span(\n",
              "        `(${file.type || 'n/a'}) - ${file.size} bytes, ` +\n",
              "        `last modified: ${\n",
              "            file.lastModifiedDate ? file.lastModifiedDate.toLocaleDateString() :\n",
              "                                    'n/a'} - `));\n",
              "    const percent = span('0% done');\n",
              "    li.appendChild(percent);\n",
              "\n",
              "    outputElement.appendChild(li);\n",
              "\n",
              "    const fileDataPromise = new Promise((resolve) => {\n",
              "      const reader = new FileReader();\n",
              "      reader.onload = (e) => {\n",
              "        resolve(e.target.result);\n",
              "      };\n",
              "      reader.readAsArrayBuffer(file);\n",
              "    });\n",
              "    // Wait for the data to be ready.\n",
              "    let fileData = yield {\n",
              "      promise: fileDataPromise,\n",
              "      response: {\n",
              "        action: 'continue',\n",
              "      }\n",
              "    };\n",
              "\n",
              "    // Use a chunked sending to avoid message size limits. See b/62115660.\n",
              "    let position = 0;\n",
              "    do {\n",
              "      const length = Math.min(fileData.byteLength - position, MAX_PAYLOAD_SIZE);\n",
              "      const chunk = new Uint8Array(fileData, position, length);\n",
              "      position += length;\n",
              "\n",
              "      const base64 = btoa(String.fromCharCode.apply(null, chunk));\n",
              "      yield {\n",
              "        response: {\n",
              "          action: 'append',\n",
              "          file: file.name,\n",
              "          data: base64,\n",
              "        },\n",
              "      };\n",
              "\n",
              "      let percentDone = fileData.byteLength === 0 ?\n",
              "          100 :\n",
              "          Math.round((position / fileData.byteLength) * 100);\n",
              "      percent.textContent = `${percentDone}% done`;\n",
              "\n",
              "    } while (position < fileData.byteLength);\n",
              "  }\n",
              "\n",
              "  // All done.\n",
              "  yield {\n",
              "    response: {\n",
              "      action: 'complete',\n",
              "    }\n",
              "  };\n",
              "}\n",
              "\n",
              "scope.google = scope.google || {};\n",
              "scope.google.colab = scope.google.colab || {};\n",
              "scope.google.colab._files = {\n",
              "  _uploadFiles,\n",
              "  _uploadFilesContinue,\n",
              "};\n",
              "})(self);\n",
              "</script> "
            ]
          },
          "metadata": {}
        },
        {
          "output_type": "stream",
          "name": "stdout",
          "text": [
            "Saving divorce.csv to divorce.csv\n"
          ]
        }
      ]
    },
    {
      "cell_type": "code",
      "source": [
        "import pandas as pd\n",
        "import numpy as np\n",
        "import matplotlib.pyplot as plt\n",
        "import seaborn as sns\n",
        "import statsmodels.api as sm   #Regresyon analizi için.\n"
      ],
      "metadata": {
        "id": "rUJORjFpEBuU"
      },
      "execution_count": 2,
      "outputs": []
    },
    {
      "cell_type": "code",
      "source": [
        "data=pd.read_csv(\"divorce.csv\")"
      ],
      "metadata": {
        "id": "RhNjdMHKE_xc"
      },
      "execution_count": 3,
      "outputs": []
    },
    {
      "cell_type": "code",
      "source": [
        "print(data.head())"
      ],
      "metadata": {
        "id": "9d8knH-sFFVX",
        "outputId": "a7db8829-d6e6-4dfd-957c-d8a816f6aa93",
        "colab": {
          "base_uri": "https://localhost:8080/"
        }
      },
      "execution_count": 4,
      "outputs": [
        {
          "output_type": "stream",
          "name": "stdout",
          "text": [
            "  divorce_date     dob_man education_man  income_man   dob_woman  \\\n",
            "0   2006-09-06  1975-12-18     Secondary      2000.0  1983-08-01   \n",
            "1   2008-01-02  1976-11-17  Professional      6000.0  1977-03-13   \n",
            "2   2011-01-02  1969-04-06   Preparatory      5000.0  1970-02-16   \n",
            "3   2011-01-02  1979-11-13     Secondary     12000.0  1981-05-13   \n",
            "4   2011-01-02  1982-09-20  Professional      6000.0  1988-01-30   \n",
            "\n",
            "  education_woman  income_woman marriage_date  marriage_duration  num_kids  \n",
            "0       Secondary        1800.0    2000-06-26                5.0       1.0  \n",
            "1    Professional        6000.0    2001-09-02                7.0       NaN  \n",
            "2    Professional        5000.0    2000-02-02                2.0       2.0  \n",
            "3       Secondary       12000.0    2006-05-13                2.0       NaN  \n",
            "4    Professional       10000.0    2007-08-06                3.0       NaN  \n"
          ]
        }
      ]
    },
    {
      "cell_type": "code",
      "source": [
        "print(data.info())"
      ],
      "metadata": {
        "id": "t8YhSh1_FR2M",
        "outputId": "f60dfa55-4e06-4e86-d836-208de4fa0980",
        "colab": {
          "base_uri": "https://localhost:8080/"
        }
      },
      "execution_count": 5,
      "outputs": [
        {
          "output_type": "stream",
          "name": "stdout",
          "text": [
            "<class 'pandas.core.frame.DataFrame'>\n",
            "RangeIndex: 2209 entries, 0 to 2208\n",
            "Data columns (total 10 columns):\n",
            " #   Column             Non-Null Count  Dtype  \n",
            "---  ------             --------------  -----  \n",
            " 0   divorce_date       2209 non-null   object \n",
            " 1   dob_man            2209 non-null   object \n",
            " 2   education_man      2205 non-null   object \n",
            " 3   income_man         2209 non-null   float64\n",
            " 4   dob_woman          2209 non-null   object \n",
            " 5   education_woman    2209 non-null   object \n",
            " 6   income_woman       2209 non-null   float64\n",
            " 7   marriage_date      2209 non-null   object \n",
            " 8   marriage_duration  2209 non-null   float64\n",
            " 9   num_kids           1333 non-null   float64\n",
            "dtypes: float64(4), object(6)\n",
            "memory usage: 172.7+ KB\n",
            "None\n"
          ]
        }
      ]
    },
    {
      "cell_type": "code",
      "source": [
        "print(data.describe())"
      ],
      "metadata": {
        "id": "QrRB6qBRFTqA",
        "outputId": "4b01d3e1-eeba-439f-9fcb-9c104db7daa1",
        "colab": {
          "base_uri": "https://localhost:8080/"
        }
      },
      "execution_count": 6,
      "outputs": [
        {
          "output_type": "stream",
          "name": "stdout",
          "text": [
            "         income_man  income_woman  marriage_duration     num_kids\n",
            "count   2209.000000   2209.000000        2209.000000  1333.000000\n",
            "mean    7922.986410   6793.164545           9.606609     1.672918\n",
            "std     7693.796497   6562.928689           7.266696     0.732858\n",
            "min        3.000000      3.500000           1.000000     1.000000\n",
            "25%     3600.000000   3000.000000           4.000000     1.000000\n",
            "50%     6000.000000   5000.000000           8.000000     2.000000\n",
            "75%    10000.000000   8000.000000          14.000000     2.000000\n",
            "max    80000.000000  90000.000000          32.000000     5.000000\n"
          ]
        }
      ]
    },
    {
      "cell_type": "code",
      "source": [
        "#Tarih sütunlarını datetime formatına çevirme\n",
        "data[\"divorce_date\"]=pd.to_datetime(data[\"divorce_date\"])\n",
        "data[\"dob_man\"]=pd.to_datetime(data[\"dob_man\"])\n",
        "data[\"dob_woman\"]=pd.to_datetime(data[\"dob_woman\"])\n",
        "data[\"marriage_date\"]=pd.to_datetime(data[\"marriage_date\"])"
      ],
      "metadata": {
        "id": "ZJ0YJG7-FVp0"
      },
      "execution_count": 7,
      "outputs": []
    },
    {
      "cell_type": "code",
      "source": [
        "#Eksik verileri bulma\n",
        "print(data.isnull().sum())\n",
        "\n",
        "#Eksik değer yüzdesi\n",
        "print(data.isnull().mean()*100)"
      ],
      "metadata": {
        "id": "qhVIcu_GFXtQ",
        "outputId": "ee7a7d58-d2f6-4d37-9c2b-cd95493e3e95",
        "colab": {
          "base_uri": "https://localhost:8080/"
        }
      },
      "execution_count": 8,
      "outputs": [
        {
          "output_type": "stream",
          "name": "stdout",
          "text": [
            "divorce_date           0\n",
            "dob_man                0\n",
            "education_man          4\n",
            "income_man             0\n",
            "dob_woman              0\n",
            "education_woman        0\n",
            "income_woman           0\n",
            "marriage_date          0\n",
            "marriage_duration      0\n",
            "num_kids             876\n",
            "dtype: int64\n",
            "divorce_date          0.000000\n",
            "dob_man               0.000000\n",
            "education_man         0.181077\n",
            "income_man            0.000000\n",
            "dob_woman             0.000000\n",
            "education_woman       0.000000\n",
            "income_woman          0.000000\n",
            "marriage_date         0.000000\n",
            "marriage_duration     0.000000\n",
            "num_kids             39.655953\n",
            "dtype: float64\n"
          ]
        }
      ]
    },
    {
      "cell_type": "code",
      "source": [
        "#education_man sütunundaki eksik verileri doldur\n",
        "data[\"education_man\"].fillna(data[\"education_man\"].mode()[0], inplace=True)\n",
        "\n",
        "#num_kids sütunundaki eksik verileri doldur\n",
        "data[\"num_kids\"].fillna(data[\"num_kids\"].mean(), inplace=True)"
      ],
      "metadata": {
        "id": "FhR-DQfEFcHM",
        "outputId": "1adced37-7e19-401d-be58-fc0d30bce71c",
        "colab": {
          "base_uri": "https://localhost:8080/"
        }
      },
      "execution_count": 20,
      "outputs": [
        {
          "output_type": "stream",
          "name": "stderr",
          "text": [
            "<ipython-input-20-4b6e6f7df2e4>:2: FutureWarning: A value is trying to be set on a copy of a DataFrame or Series through chained assignment using an inplace method.\n",
            "The behavior will change in pandas 3.0. This inplace method will never work because the intermediate object on which we are setting values always behaves as a copy.\n",
            "\n",
            "For example, when doing 'df[col].method(value, inplace=True)', try using 'df.method({col: value}, inplace=True)' or df[col] = df[col].method(value) instead, to perform the operation inplace on the original object.\n",
            "\n",
            "\n",
            "  data[\"education_man\"].fillna(data[\"education_man\"].mode()[0], inplace=True)\n",
            "<ipython-input-20-4b6e6f7df2e4>:5: FutureWarning: A value is trying to be set on a copy of a DataFrame or Series through chained assignment using an inplace method.\n",
            "The behavior will change in pandas 3.0. This inplace method will never work because the intermediate object on which we are setting values always behaves as a copy.\n",
            "\n",
            "For example, when doing 'df[col].method(value, inplace=True)', try using 'df.method({col: value}, inplace=True)' or df[col] = df[col].method(value) instead, to perform the operation inplace on the original object.\n",
            "\n",
            "\n",
            "  data[\"num_kids\"].fillna(data[\"num_kids\"].mean(), inplace=True)\n"
          ]
        }
      ]
    },
    {
      "cell_type": "code",
      "source": [
        "data.isnull().sum()"
      ],
      "metadata": {
        "colab": {
          "base_uri": "https://localhost:8080/",
          "height": 397
        },
        "id": "IGilNNWpYA4I",
        "outputId": "dcda5bf2-cbf1-45db-a33b-a4da736a2131"
      },
      "execution_count": 21,
      "outputs": [
        {
          "output_type": "execute_result",
          "data": {
            "text/plain": [
              "divorce_date         0\n",
              "dob_man              0\n",
              "education_man        0\n",
              "income_man           0\n",
              "dob_woman            0\n",
              "education_woman      0\n",
              "income_woman         0\n",
              "marriage_date        0\n",
              "marriage_duration    0\n",
              "num_kids             0\n",
              "dtype: int64"
            ],
            "text/html": [
              "<div>\n",
              "<style scoped>\n",
              "    .dataframe tbody tr th:only-of-type {\n",
              "        vertical-align: middle;\n",
              "    }\n",
              "\n",
              "    .dataframe tbody tr th {\n",
              "        vertical-align: top;\n",
              "    }\n",
              "\n",
              "    .dataframe thead th {\n",
              "        text-align: right;\n",
              "    }\n",
              "</style>\n",
              "<table border=\"1\" class=\"dataframe\">\n",
              "  <thead>\n",
              "    <tr style=\"text-align: right;\">\n",
              "      <th></th>\n",
              "      <th>0</th>\n",
              "    </tr>\n",
              "  </thead>\n",
              "  <tbody>\n",
              "    <tr>\n",
              "      <th>divorce_date</th>\n",
              "      <td>0</td>\n",
              "    </tr>\n",
              "    <tr>\n",
              "      <th>dob_man</th>\n",
              "      <td>0</td>\n",
              "    </tr>\n",
              "    <tr>\n",
              "      <th>education_man</th>\n",
              "      <td>0</td>\n",
              "    </tr>\n",
              "    <tr>\n",
              "      <th>income_man</th>\n",
              "      <td>0</td>\n",
              "    </tr>\n",
              "    <tr>\n",
              "      <th>dob_woman</th>\n",
              "      <td>0</td>\n",
              "    </tr>\n",
              "    <tr>\n",
              "      <th>education_woman</th>\n",
              "      <td>0</td>\n",
              "    </tr>\n",
              "    <tr>\n",
              "      <th>income_woman</th>\n",
              "      <td>0</td>\n",
              "    </tr>\n",
              "    <tr>\n",
              "      <th>marriage_date</th>\n",
              "      <td>0</td>\n",
              "    </tr>\n",
              "    <tr>\n",
              "      <th>marriage_duration</th>\n",
              "      <td>0</td>\n",
              "    </tr>\n",
              "    <tr>\n",
              "      <th>num_kids</th>\n",
              "      <td>0</td>\n",
              "    </tr>\n",
              "  </tbody>\n",
              "</table>\n",
              "</div><br><label><b>dtype:</b> int64</label>"
            ]
          },
          "metadata": {},
          "execution_count": 21
        }
      ]
    },
    {
      "cell_type": "code",
      "source": [
        "#Yalnızca sayısal sütunları seçme\n",
        "numeric_data = data.select_dtypes(include=[np.number])\n",
        "\n",
        "#Korelasyon matrisini hesaplama\n",
        "correlation_matrix = numeric_data.corr()\n",
        "print(correlation_matrix)"
      ],
      "metadata": {
        "id": "bkRszpPvFeh1",
        "outputId": "5106407b-c6e5-4958-d4dc-5c2541d6dfb7",
        "colab": {
          "base_uri": "https://localhost:8080/"
        }
      },
      "execution_count": 22,
      "outputs": [
        {
          "output_type": "stream",
          "name": "stdout",
          "text": [
            "                   income_man  income_woman  marriage_duration  num_kids\n",
            "income_man           1.000000      0.318047           0.085321  0.032653\n",
            "income_woman         0.318047      1.000000           0.078677 -0.015379\n",
            "marriage_duration    0.085321      0.078677           1.000000  0.347479\n",
            "num_kids             0.032653     -0.015379           0.347479  1.000000\n"
          ]
        }
      ]
    },
    {
      "cell_type": "code",
      "source": [
        "sns.heatmap(correlation_matrix, annot=True)"
      ],
      "metadata": {
        "id": "msqO2SDyFgY_",
        "outputId": "4db2e200-a398-4975-b6e4-922043c6458f",
        "colab": {
          "base_uri": "https://localhost:8080/",
          "height": 567
        }
      },
      "execution_count": 23,
      "outputs": [
        {
          "output_type": "execute_result",
          "data": {
            "text/plain": [
              "<Axes: >"
            ]
          },
          "metadata": {},
          "execution_count": 23
        },
        {
          "output_type": "display_data",
          "data": {
            "text/plain": [
              "<Figure size 640x480 with 2 Axes>"
            ],
            "image/png": "[encoded data removed]"
          },
          "metadata": {}
        }
      ]
    },
    {
      "cell_type": "markdown",
      "source": [
        "## Regresyon Analizi"
      ],
      "metadata": {
        "id": "t9rEHj-rsjoo"
      }
    },
    {
      "cell_type": "code",
      "source": [
        "#Eksik değer kontrolü\n",
        "print(data.isnull().sum())\n"
      ],
      "metadata": {
        "id": "V55TQYjosf0I",
        "outputId": "b22c07b8-f2ed-4799-d7b7-c0648336a71f",
        "colab": {
          "base_uri": "https://localhost:8080/"
        }
      },
      "execution_count": 24,
      "outputs": [
        {
          "output_type": "stream",
          "name": "stdout",
          "text": [
            "divorce_date         0\n",
            "dob_man              0\n",
            "education_man        0\n",
            "income_man           0\n",
            "dob_woman            0\n",
            "education_woman      0\n",
            "income_woman         0\n",
            "marriage_date        0\n",
            "marriage_duration    0\n",
            "num_kids             0\n",
            "dtype: int64\n"
          ]
        }
      ]
    },
    {
      "cell_type": "code",
      "source": [
        "#Bağımlı ve bağımsız değişkenler\n",
        "\n",
        "bagimli=data[\"marriage_duration\"]\n",
        "bagimsiz=data[[\"income_man\", \"income_woman\", \"num_kids\"]]"
      ],
      "metadata": {
        "id": "X18di721sxCH"
      },
      "execution_count": 25,
      "outputs": []
    },
    {
      "cell_type": "code",
      "source": [
        "#Bağımsız değişkenlere sabit ekle(intercept için)\n",
        "bagimsiz=sm.add_constant(bagimsiz)\n",
        "\n",
        "#Modeli oluştur ve eğit\n",
        "model=sm.OLS(bagimli,bagimsiz).fit()\n",
        "\n",
        "#Model özetini yazdır\n",
        "print(model.summary())"
      ],
      "metadata": {
        "id": "X7yjXufGurGU",
        "outputId": "e280a453-5dd1-46c1-d902-370dd5b9efd5",
        "colab": {
          "base_uri": "https://localhost:8080/"
        }
      },
      "execution_count": 26,
      "outputs": [
        {
          "output_type": "stream",
          "name": "stdout",
          "text": [
            "                            OLS Regression Results                            \n",
            "==============================================================================\n",
            "Dep. Variable:      marriage_duration   R-squared:                       0.130\n",
            "Model:                            OLS   Adj. R-squared:                  0.129\n",
            "Method:                 Least Squares   F-statistic:                     110.1\n",
            "Date:                Fri, 10 Jan 2025   Prob (F-statistic):           1.97e-66\n",
            "Time:                        19:42:35   Log-Likelihood:                -7360.9\n",
            "No. Observations:                2209   AIC:                         1.473e+04\n",
            "Df Residuals:                    2205   BIC:                         1.475e+04\n",
            "Df Model:                           3                                         \n",
            "Covariance Type:            nonrobust                                         \n",
            "================================================================================\n",
            "                   coef    std err          t      P>|t|      [0.025      0.975]\n",
            "--------------------------------------------------------------------------------\n",
            "const            1.3004      0.483      2.693      0.007       0.354       2.247\n",
            "income_man    4.968e-05   1.98e-05      2.509      0.012    1.08e-05    8.85e-05\n",
            "income_woman   7.45e-05   2.32e-05      3.211      0.001     2.9e-05       0.000\n",
            "num_kids         4.4273      0.254     17.446      0.000       3.930       4.925\n",
            "==============================================================================\n",
            "Omnibus:                      224.905   Durbin-Watson:                   1.935\n",
            "Prob(Omnibus):                  0.000   Jarque-Bera (JB):              295.321\n",
            "Skew:                           0.873   Prob(JB):                     7.45e-65\n",
            "Kurtosis:                       3.398   Cond. No.                     4.93e+04\n",
            "==============================================================================\n",
            "\n",
            "Notes:\n",
            "[1] Standard Errors assume that the covariance matrix of the errors is correctly specified.\n",
            "[2] The condition number is large, 4.93e+04. This might indicate that there are\n",
            "strong multicollinearity or other numerical problems.\n"
          ]
        }
      ]
    },
    {
      "cell_type": "code",
      "source": [],
      "metadata": {
        "id": "Sbo3jpj-vWp6"
      },
      "execution_count": null,
      "outputs": []
    }
  ]
}